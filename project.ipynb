{
  "nbformat": 4,
  "nbformat_minor": 0,
  "metadata": {
    "colab": {
      "provenance": [],
      "include_colab_link": true
    },
    "kernelspec": {
      "name": "python3",
      "display_name": "Python 3"
    },
    "language_info": {
      "name": "python"
    }
  },
  "cells": [
    {
      "cell_type": "markdown",
      "metadata": {
        "id": "view-in-github",
        "colab_type": "text"
      },
      "source": [
        "<a href=\"https://colab.research.google.com/github/GoldPapaya/synonym-pathfinder/blob/main/project.ipynb\" target=\"_parent\"><img src=\"https://colab.research.google.com/assets/colab-badge.svg\" alt=\"Open In Colab\"/></a>"
      ]
    },
    {
      "cell_type": "code",
      "source": [
        "!pip install nltk\n",
        "!python -m nltk.downloader wordnet"
      ],
      "metadata": {
        "id": "oUFqau33IGsA",
        "outputId": "c541525f-2106-424a-cdd2-e8f49c1027f2",
        "colab": {
          "base_uri": "https://localhost:8080/"
        }
      },
      "execution_count": 1,
      "outputs": [
        {
          "output_type": "stream",
          "name": "stdout",
          "text": [
            "Requirement already satisfied: nltk in /usr/local/lib/python3.12/dist-packages (3.9.1)\n",
            "Requirement already satisfied: click in /usr/local/lib/python3.12/dist-packages (from nltk) (8.3.0)\n",
            "Requirement already satisfied: joblib in /usr/local/lib/python3.12/dist-packages (from nltk) (1.5.2)\n",
            "Requirement already satisfied: regex>=2021.8.3 in /usr/local/lib/python3.12/dist-packages (from nltk) (2024.11.6)\n",
            "Requirement already satisfied: tqdm in /usr/local/lib/python3.12/dist-packages (from nltk) (4.67.1)\n",
            "<frozen runpy>:128: RuntimeWarning: 'nltk.downloader' found in sys.modules after import of package 'nltk', but prior to execution of 'nltk.downloader'; this may result in unpredictable behaviour\n",
            "[nltk_data] Downloading package wordnet to /root/nltk_data...\n"
          ]
        }
      ]
    },
    {
      "cell_type": "code",
      "execution_count": 2,
      "metadata": {
        "id": "JRfLf_Y6F2hS"
      },
      "outputs": [],
      "source": [
        "import nltk\n",
        "from nltk.corpus import wordnet as wn\n",
        "import pandas as pd\n",
        "import networkx as nx"
      ]
    },
    {
      "cell_type": "markdown",
      "source": [
        "Below is code to test adding nodes to a graph (to be used later)."
      ],
      "metadata": {
        "id": "lJ0Vn1pbBy5e"
      }
    },
    {
      "cell_type": "code",
      "source": [
        "class WordNetGraph:\n",
        "    def __init__(self):\n",
        "        self.graph = nx.Graph()\n",
        "\n",
        "    def add_synset_node(self, synset):\n",
        "        self.graph.add_node(synset)"
      ],
      "metadata": {
        "id": "0xtVf5S6Ljwh"
      },
      "execution_count": null,
      "outputs": []
    },
    {
      "cell_type": "code",
      "source": [
        "graph = WordNetGraph()\n",
        "\n",
        "synset1 = wn.synset('dog.n.01')\n",
        "synset2 = wn.synset('bank.n.01')\n",
        "graph.add_synset_node(synset1)\n",
        "graph.add_synset_node(synset2)\n",
        "\n",
        "print(f\"Nodes in graph: {list(graph.graph.nodes())}\")\n",
        "print(f\"Graph has {graph.graph.number_of_nodes()} nodes\")"
      ],
      "metadata": {
        "id": "PFiGzbLJL_QA",
        "outputId": "e8b4e6d7-6bd1-499f-bc15-b6a38b7221c1",
        "colab": {
          "base_uri": "https://localhost:8080/"
        }
      },
      "execution_count": null,
      "outputs": [
        {
          "output_type": "stream",
          "name": "stdout",
          "text": [
            "Nodes in graph: [Synset('dog.n.01'), Synset('bank.n.01')]\n",
            "Graph has 2 nodes\n"
          ]
        }
      ]
    },
    {
      "cell_type": "markdown",
      "source": [
        "Stuff below is for finding synonym candidates given a word and a depth."
      ],
      "metadata": {
        "id": "bKjg9D8hBq4-"
      }
    },
    {
      "cell_type": "code",
      "source": [
        "def get_synset_neighbors(input_synset, depth):\n",
        "    \"\"\"\n",
        "    input_synset (str): A synset name (e.g., 'trust.v.01')\n",
        "    depth (int): The depth of neighbor exploration\n",
        "\n",
        "    Returns:\n",
        "    dict: Dictionary with synsets as keys and lists of lemma-associated synset names as values\n",
        "    \"\"\"\n",
        "    result = {}\n",
        "    start_synset = wn.synset(input_synset)\n",
        "    # Set to keep track of synsets to process\n",
        "    to_process = {start_synset}\n",
        "    processed = set()\n",
        "    # Process synsets up to the specified depth\n",
        "    for i in range(depth + 1):\n",
        "        next_to_process = set()\n",
        "        for synset in to_process:\n",
        "            if synset not in processed:\n",
        "                # get synsets related to the synset lemmas\n",
        "                lemmas = synset.lemmas()\n",
        "                neighbor_synsets = set()\n",
        "                for lemma in lemmas:\n",
        "                    lemma_name = lemma.name()\n",
        "                    for lemma_synset in wn.synsets(lemma_name, pos=synset.pos()): # restrict to same POS\n",
        "                        neighbor_synsets.add(lemma_synset)\n",
        "\n",
        "                result[synset.name()] = [n.name() for n in neighbor_synsets if n != synset]\n",
        "                # add new synsets to process if depth allows further exploration\n",
        "                if i < depth:\n",
        "                    next_to_process.update(neighbor_synsets - processed)\n",
        "                processed.add(synset)\n",
        "        to_process = next_to_process\n",
        "    return result"
      ],
      "metadata": {
        "id": "Xae2sI8waIWS"
      },
      "execution_count": 3,
      "outputs": []
    },
    {
      "cell_type": "code",
      "source": [
        "test_synset_string = 'bank.n.01'\n",
        "\n",
        "# Example call\n",
        "result = get_synset_neighbors(test_synset_string, 2)\n",
        "for synset, neighbors in result.items():\n",
        "    print(f\"{synset}: {neighbors}\")\n",
        "print('\\n', result)"
      ],
      "metadata": {
        "colab": {
          "base_uri": "https://localhost:8080/"
        },
        "id": "Lumpk9O9a6RY",
        "outputId": "4fdcab10-3294-4679-8eea-fcfb659b8b32"
      },
      "execution_count": 14,
      "outputs": [
        {
          "output_type": "stream",
          "name": "stdout",
          "text": [
            "bank.n.01: ['bank.n.07', 'bank.n.05', 'bank.n.09', 'bank.n.06', 'bank.n.10', 'depository_financial_institution.n.01', 'bank.n.03', 'bank.n.04', 'savings_bank.n.02']\n",
            "bank.n.07: ['bank.n.05', 'bank.n.09', 'bank.n.06', 'slang.n.02', 'bank.n.10', 'camber.n.03', 'depository_financial_institution.n.01', 'cant.n.04', 'bank.n.03', 'bevel.n.01', 'buzzword.n.01', 'bank.n.04', 'bank.n.01', 'camber.n.01', 'savings_bank.n.02']\n",
            "bank.n.05: ['bank.n.07', 'bank.n.09', 'bank.n.06', 'bank.n.10', 'depository_financial_institution.n.01', 'bank.n.03', 'bank.n.04', 'bank.n.01', 'savings_bank.n.02']\n",
            "bank.n.09: ['bank.n.07', 'bank.n.05', 'bank.n.06', 'bank.n.10', 'depository_financial_institution.n.01', 'bank.n.03', 'bank.n.04', 'bank.n.01', 'savings_bank.n.02']\n",
            "bank.n.06: ['bank.n.07', 'bank.n.05', 'bank.n.09', 'bank.n.10', 'depository_financial_institution.n.01', 'bank.n.03', 'bank.n.04', 'bank.n.01', 'savings_bank.n.02']\n",
            "bank.n.10: ['bank.n.07', 'bank.n.05', 'bank.n.09', 'bank.n.06', 'depository_financial_institution.n.01', 'bank.n.03', 'bank.n.04', 'bank.n.01', 'savings_bank.n.02']\n",
            "depository_financial_institution.n.01: ['bank.n.07', 'bank.n.05', 'bank.n.09', 'bank.n.06', 'bank.n.10', 'bank.n.03', 'bank.n.04', 'bank.n.01', 'savings_bank.n.02']\n",
            "bank.n.03: ['bank.n.07', 'bank.n.05', 'bank.n.09', 'bank.n.06', 'bank.n.10', 'depository_financial_institution.n.01', 'bank.n.04', 'bank.n.01', 'savings_bank.n.02']\n",
            "bank.n.04: ['bank.n.07', 'bank.n.05', 'bank.n.09', 'bank.n.06', 'bank.n.10', 'depository_financial_institution.n.01', 'bank.n.03', 'bank.n.01', 'savings_bank.n.02']\n",
            "savings_bank.n.02: ['bank.n.07', 'bank.n.05', 'bank.n.09', 'bank.n.06', 'cashbox.n.01', 'bank.n.10', 'depository_financial_institution.n.01', 'savings_bank.n.01', 'bank.n.03', 'bank.n.04', 'bank.n.01']\n",
            "cashbox.n.01: ['till.n.01', 'public_treasury.n.01', 'savings_bank.n.02']\n",
            "cant.n.04: ['slang.n.02', 'bevel.n.01', 'buzzword.n.01', 'bank.n.07']\n",
            "savings_bank.n.01: ['savings_bank.n.02']\n",
            "slang.n.02: ['slang.n.01', 'jargoon.n.01', 'patois.n.02', 'jargon.n.03', 'cant.n.04', 'bevel.n.01', 'vernacular.n.02', 'buzzword.n.01', 'bank.n.07']\n",
            "bevel.n.01: ['bevel.n.02', 'slang.n.02', 'cant.n.04', 'buzzword.n.01', 'bank.n.07']\n",
            "buzzword.n.01: ['slang.n.02', 'cant.n.04', 'bevel.n.01', 'bank.n.07']\n",
            "camber.n.03: ['bank.n.07', 'camber.n.01']\n",
            "camber.n.01: ['bank.n.07', 'camber.n.03']\n",
            "\n",
            " {'bank.n.01': ['bank.n.07', 'bank.n.05', 'bank.n.09', 'bank.n.06', 'bank.n.10', 'depository_financial_institution.n.01', 'bank.n.03', 'bank.n.04', 'savings_bank.n.02'], 'bank.n.07': ['bank.n.05', 'bank.n.09', 'bank.n.06', 'slang.n.02', 'bank.n.10', 'camber.n.03', 'depository_financial_institution.n.01', 'cant.n.04', 'bank.n.03', 'bevel.n.01', 'buzzword.n.01', 'bank.n.04', 'bank.n.01', 'camber.n.01', 'savings_bank.n.02'], 'bank.n.05': ['bank.n.07', 'bank.n.09', 'bank.n.06', 'bank.n.10', 'depository_financial_institution.n.01', 'bank.n.03', 'bank.n.04', 'bank.n.01', 'savings_bank.n.02'], 'bank.n.09': ['bank.n.07', 'bank.n.05', 'bank.n.06', 'bank.n.10', 'depository_financial_institution.n.01', 'bank.n.03', 'bank.n.04', 'bank.n.01', 'savings_bank.n.02'], 'bank.n.06': ['bank.n.07', 'bank.n.05', 'bank.n.09', 'bank.n.10', 'depository_financial_institution.n.01', 'bank.n.03', 'bank.n.04', 'bank.n.01', 'savings_bank.n.02'], 'bank.n.10': ['bank.n.07', 'bank.n.05', 'bank.n.09', 'bank.n.06', 'depository_financial_institution.n.01', 'bank.n.03', 'bank.n.04', 'bank.n.01', 'savings_bank.n.02'], 'depository_financial_institution.n.01': ['bank.n.07', 'bank.n.05', 'bank.n.09', 'bank.n.06', 'bank.n.10', 'bank.n.03', 'bank.n.04', 'bank.n.01', 'savings_bank.n.02'], 'bank.n.03': ['bank.n.07', 'bank.n.05', 'bank.n.09', 'bank.n.06', 'bank.n.10', 'depository_financial_institution.n.01', 'bank.n.04', 'bank.n.01', 'savings_bank.n.02'], 'bank.n.04': ['bank.n.07', 'bank.n.05', 'bank.n.09', 'bank.n.06', 'bank.n.10', 'depository_financial_institution.n.01', 'bank.n.03', 'bank.n.01', 'savings_bank.n.02'], 'savings_bank.n.02': ['bank.n.07', 'bank.n.05', 'bank.n.09', 'bank.n.06', 'cashbox.n.01', 'bank.n.10', 'depository_financial_institution.n.01', 'savings_bank.n.01', 'bank.n.03', 'bank.n.04', 'bank.n.01'], 'cashbox.n.01': ['till.n.01', 'public_treasury.n.01', 'savings_bank.n.02'], 'cant.n.04': ['slang.n.02', 'bevel.n.01', 'buzzword.n.01', 'bank.n.07'], 'savings_bank.n.01': ['savings_bank.n.02'], 'slang.n.02': ['slang.n.01', 'jargoon.n.01', 'patois.n.02', 'jargon.n.03', 'cant.n.04', 'bevel.n.01', 'vernacular.n.02', 'buzzword.n.01', 'bank.n.07'], 'bevel.n.01': ['bevel.n.02', 'slang.n.02', 'cant.n.04', 'buzzword.n.01', 'bank.n.07'], 'buzzword.n.01': ['slang.n.02', 'cant.n.04', 'bevel.n.01', 'bank.n.07'], 'camber.n.03': ['bank.n.07', 'camber.n.01'], 'camber.n.01': ['bank.n.07', 'camber.n.03']}\n"
          ]
        }
      ]
    },
    {
      "cell_type": "code",
      "source": [
        "print(wn.synset('bank.n.07').definition())\n",
        "print(wn.synset('bank.n.07').lemma_names())\n",
        "print(wn.synsets('cant'))"
      ],
      "metadata": {
        "id": "_Zb6un-BGFS7",
        "outputId": "9cc666ea-4783-416e-b1c4-cf8b50976d7b",
        "colab": {
          "base_uri": "https://localhost:8080/"
        }
      },
      "execution_count": 15,
      "outputs": [
        {
          "output_type": "stream",
          "name": "stdout",
          "text": [
            "a slope in the turn of a road or track; the outside is higher than the inside in order to reduce the effects of centrifugal force\n",
            "['bank', 'cant', 'camber']\n",
            "[Synset('buzzword.n.01'), Synset('bank.n.07'), Synset('slang.n.02'), Synset('cant.n.04'), Synset('bevel.n.01'), Synset('cant.v.01')]\n"
          ]
        }
      ]
    },
    {
      "cell_type": "code",
      "source": [
        "print(wn.synset('depository_financial_institution.n.01').lemmas())\n",
        "\n",
        "print(wn.synsets('banking_concern'))\n",
        "print(wn.synsets('banking_company'))\n",
        "print(wn.synsets('bank'))\n"
      ],
      "metadata": {
        "id": "np6FxY3db6-R",
        "outputId": "9591061f-a864-4088-9c31-ece4e2e7fc16",
        "colab": {
          "base_uri": "https://localhost:8080/"
        }
      },
      "execution_count": null,
      "outputs": [
        {
          "output_type": "stream",
          "name": "stdout",
          "text": [
            "[Lemma('depository_financial_institution.n.01.depository_financial_institution'), Lemma('depository_financial_institution.n.01.bank'), Lemma('depository_financial_institution.n.01.banking_concern'), Lemma('depository_financial_institution.n.01.banking_company')]\n",
            "[Synset('depository_financial_institution.n.01')]\n",
            "[Synset('depository_financial_institution.n.01')]\n",
            "[Synset('bank.n.01'), Synset('depository_financial_institution.n.01'), Synset('bank.n.03'), Synset('bank.n.04'), Synset('bank.n.05'), Synset('bank.n.06'), Synset('bank.n.07'), Synset('savings_bank.n.02'), Synset('bank.n.09'), Synset('bank.n.10'), Synset('bank.v.01'), Synset('bank.v.02'), Synset('bank.v.03'), Synset('bank.v.04'), Synset('bank.v.05'), Synset('deposit.v.02'), Synset('bank.v.07'), Synset('trust.v.01')]\n"
          ]
        }
      ]
    },
    {
      "cell_type": "code",
      "source": [
        "import nltk\n",
        "from nltk.corpus import wordnet as wn\n",
        "import networkx as nx\n",
        "\n",
        "class WordNetGraph:\n",
        "    def __init__(self):\n",
        "        self.graph = nx.Graph()  # Undirected graph of synset connections via shared lemmas\n",
        "\n",
        "    def add_synset_node(self, synset):\n",
        "        \"\"\"Ensure the synset (as string) is in the graph.\"\"\"\n",
        "        self.graph.add_node(synset.name())\n",
        "\n",
        "    def add_synset_edges(self, synset):\n",
        "        \"\"\"\n",
        "        Add edges from synset to all other synsets that share its lemmas (same POS).\n",
        "        \"\"\"\n",
        "        synset_name = synset.name()\n",
        "        self.add_synset_node(synset)\n",
        "\n",
        "        lemmas = synset.lemmas()\n",
        "        neighbor_synsets = set()\n",
        "\n",
        "        for lemma in lemmas:\n",
        "            lemma_name = lemma.name()\n",
        "            # Get all synsets for this lemma with the same POS\n",
        "            for neighbor in wn.synsets(lemma_name, pos=synset.pos()):\n",
        "                if neighbor != synset:  # Avoid self-loop\n",
        "                    neighbor_synsets.add(neighbor)\n",
        "                    self.graph.add_edge(synset_name, neighbor.name())\n",
        "\n",
        "        return neighbor_synsets\n",
        "\n",
        "    def build_graph_from_synset(self, input_synset_str, depth):\n",
        "        \"\"\"\n",
        "        Build graph starting from input_synset_str up to given depth.\n",
        "\n",
        "        Args:\n",
        "            input_synset_str (str): e.g., 'bank.n.01'\n",
        "            depth (int): How many hops to explore\n",
        "        \"\"\"\n",
        "        start_synset = wn.synset(input_synset_str)\n",
        "        self.graph.clear()  # Reset graph\n",
        "        self.add_synset_node(start_synset)\n",
        "\n",
        "        to_process = {start_synset}\n",
        "        processed = set()\n",
        "\n",
        "        for current_depth in range(depth + 1):\n",
        "            next_to_process = set()\n",
        "            for synset in to_process:\n",
        "                if synset not in processed:\n",
        "                    # Add edges and get new neighbors\n",
        "                    neighbors = self.add_synset_edges(synset)\n",
        "                    if current_depth < depth:\n",
        "                        next_to_process.update(neighbors - processed)\n",
        "                    processed.add(synset)\n",
        "            to_process = next_to_process\n",
        "\n",
        "    # Optional: Helper methods\n",
        "    def get_neighbors(self, synset_name):\n",
        "        return list(self.graph.neighbors(synset_name))\n",
        "\n",
        "    def get_subgraph(self, nodes):\n",
        "        return self.graph.subgraph(nodes).copy()\n",
        "\n",
        "    def draw(self, **kwargs):\n",
        "        import matplotlib.pyplot as plt\n",
        "        pos = nx.spring_layout(self.graph)\n",
        "        nx.draw(self.graph, pos, with_labels=True, node_color='lightblue',\n",
        "                edge_color='gray', node_size=2000, font_size=8, **kwargs)\n",
        "        plt.show()"
      ],
      "metadata": {
        "id": "Y2lACjk1HaF-"
      },
      "execution_count": 23,
      "outputs": []
    },
    {
      "cell_type": "code",
      "source": [
        "# === Example Usage ===\n",
        "wn_graph = WordNetGraph()\n",
        "test_synset = 'bank.n.01'\n",
        "wn_graph.build_graph_from_synset(test_synset, depth=1)\n",
        "\n",
        "print(\"Nodes:\", list(wn_graph.graph.nodes()))\n",
        "print(\"\\nEdges:\")\n",
        "for u, v in wn_graph.graph.edges():\n",
        "    print(f\"{u} -- {v}\")\n",
        "\n",
        "print(f\"\\nDegree of 'bank.n.01': {wn_graph.graph.degree['bank.n.01']}\")\n",
        "print(f\"Neighbors of 'bank.n.01': {wn_graph.get_neighbors('bank.n.01')}\")"
      ],
      "metadata": {
        "id": "kkXpaPpRHdsd",
        "outputId": "4f099582-a9d5-40f7-ba90-e0e870651d27",
        "colab": {
          "base_uri": "https://localhost:8080/"
        }
      },
      "execution_count": 18,
      "outputs": [
        {
          "output_type": "stream",
          "name": "stdout",
          "text": [
            "Nodes: ['bank.n.01', 'depository_financial_institution.n.01', 'bank.n.03', 'bank.n.04', 'bank.n.05', 'bank.n.06', 'bank.n.07', 'savings_bank.n.02', 'bank.n.09', 'bank.n.10', 'buzzword.n.01', 'slang.n.02', 'cant.n.04', 'bevel.n.01', 'camber.n.01', 'camber.n.03', 'savings_bank.n.01', 'cashbox.n.01']\n",
            "\n",
            "Edges:\n",
            "bank.n.01 -- depository_financial_institution.n.01\n",
            "bank.n.01 -- bank.n.03\n",
            "bank.n.01 -- bank.n.04\n",
            "bank.n.01 -- bank.n.05\n",
            "bank.n.01 -- bank.n.06\n",
            "bank.n.01 -- bank.n.07\n",
            "bank.n.01 -- savings_bank.n.02\n",
            "bank.n.01 -- bank.n.09\n",
            "bank.n.01 -- bank.n.10\n",
            "depository_financial_institution.n.01 -- bank.n.05\n",
            "depository_financial_institution.n.01 -- bank.n.09\n",
            "depository_financial_institution.n.01 -- bank.n.06\n",
            "depository_financial_institution.n.01 -- bank.n.10\n",
            "depository_financial_institution.n.01 -- bank.n.03\n",
            "depository_financial_institution.n.01 -- bank.n.04\n",
            "depository_financial_institution.n.01 -- bank.n.07\n",
            "depository_financial_institution.n.01 -- savings_bank.n.02\n",
            "bank.n.03 -- bank.n.05\n",
            "bank.n.03 -- bank.n.09\n",
            "bank.n.03 -- bank.n.06\n",
            "bank.n.03 -- bank.n.10\n",
            "bank.n.03 -- bank.n.04\n",
            "bank.n.03 -- bank.n.07\n",
            "bank.n.03 -- savings_bank.n.02\n",
            "bank.n.04 -- bank.n.05\n",
            "bank.n.04 -- bank.n.09\n",
            "bank.n.04 -- bank.n.06\n",
            "bank.n.04 -- bank.n.10\n",
            "bank.n.04 -- bank.n.07\n",
            "bank.n.04 -- savings_bank.n.02\n",
            "bank.n.05 -- bank.n.06\n",
            "bank.n.05 -- bank.n.07\n",
            "bank.n.05 -- savings_bank.n.02\n",
            "bank.n.05 -- bank.n.09\n",
            "bank.n.05 -- bank.n.10\n",
            "bank.n.06 -- bank.n.09\n",
            "bank.n.06 -- bank.n.07\n",
            "bank.n.06 -- savings_bank.n.02\n",
            "bank.n.06 -- bank.n.10\n",
            "bank.n.07 -- bank.n.09\n",
            "bank.n.07 -- bank.n.10\n",
            "bank.n.07 -- savings_bank.n.02\n",
            "bank.n.07 -- buzzword.n.01\n",
            "bank.n.07 -- slang.n.02\n",
            "bank.n.07 -- cant.n.04\n",
            "bank.n.07 -- bevel.n.01\n",
            "bank.n.07 -- camber.n.01\n",
            "bank.n.07 -- camber.n.03\n",
            "savings_bank.n.02 -- bank.n.09\n",
            "savings_bank.n.02 -- bank.n.10\n",
            "savings_bank.n.02 -- savings_bank.n.01\n",
            "savings_bank.n.02 -- cashbox.n.01\n",
            "bank.n.09 -- bank.n.10\n",
            "\n",
            "Degree of 'bank.n.01': 9\n",
            "Neighbors of 'bank.n.01': ['depository_financial_institution.n.01', 'bank.n.03', 'bank.n.04', 'bank.n.05', 'bank.n.06', 'bank.n.07', 'savings_bank.n.02', 'bank.n.09', 'bank.n.10']\n"
          ]
        }
      ]
    },
    {
      "cell_type": "code",
      "source": [
        "wn_graph.draw()"
      ],
      "metadata": {
        "id": "pLqu9AMgH-WN",
        "outputId": "69848d5f-e91b-4056-825b-555f340651e1",
        "colab": {
          "base_uri": "https://localhost:8080/",
          "height": 516
        }
      },
      "execution_count": 19,
      "outputs": [
        {
          "output_type": "display_data",
          "data": {
            "text/plain": [
              "<Figure size 640x480 with 1 Axes>"
            ],
            "image/png": "[encoded data removed]"
          },
          "metadata": {}
        }
      ]
    }
  ]
}