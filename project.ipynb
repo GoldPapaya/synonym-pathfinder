{
  "nbformat": 4,
  "nbformat_minor": 0,
  "metadata": {
    "colab": {
      "provenance": [],
      "include_colab_link": true
    },
    "kernelspec": {
      "name": "python3",
      "display_name": "Python 3"
    },
    "language_info": {
      "name": "python"
    }
  },
  "cells": [
    {
      "cell_type": "markdown",
      "metadata": {
        "id": "view-in-github",
        "colab_type": "text"
      },
      "source": [
        "<a href=\"https://colab.research.google.com/github/GoldPapaya/synonym-pathfinder/blob/main/project.ipynb\" target=\"_parent\"><img src=\"https://colab.research.google.com/assets/colab-badge.svg\" alt=\"Open In Colab\"/></a>"
      ]
    },
    {
      "cell_type": "code",
      "source": [
        "!pip install nltk\n",
        "!python -m nltk.downloader wordnet"
      ],
      "metadata": {
        "id": "oUFqau33IGsA",
        "outputId": "3b43b9ee-fccb-49d8-ae06-c81519f1c383",
        "colab": {
          "base_uri": "https://localhost:8080/"
        }
      },
      "execution_count": 1,
      "outputs": [
        {
          "output_type": "stream",
          "name": "stdout",
          "text": [
            "Requirement already satisfied: nltk in /usr/local/lib/python3.12/dist-packages (3.9.1)\n",
            "Requirement already satisfied: click in /usr/local/lib/python3.12/dist-packages (from nltk) (8.3.0)\n",
            "Requirement already satisfied: joblib in /usr/local/lib/python3.12/dist-packages (from nltk) (1.5.2)\n",
            "Requirement already satisfied: regex>=2021.8.3 in /usr/local/lib/python3.12/dist-packages (from nltk) (2024.11.6)\n",
            "Requirement already satisfied: tqdm in /usr/local/lib/python3.12/dist-packages (from nltk) (4.67.1)\n",
            "<frozen runpy>:128: RuntimeWarning: 'nltk.downloader' found in sys.modules after import of package 'nltk', but prior to execution of 'nltk.downloader'; this may result in unpredictable behaviour\n",
            "[nltk_data] Downloading package wordnet to /root/nltk_data...\n"
          ]
        }
      ]
    },
    {
      "cell_type": "code",
      "execution_count": 2,
      "metadata": {
        "id": "JRfLf_Y6F2hS"
      },
      "outputs": [],
      "source": [
        "import nltk\n",
        "from nltk.corpus import wordnet as wn\n",
        "import pandas as pd\n",
        "import networkx as nx"
      ]
    },
    {
      "cell_type": "markdown",
      "source": [
        "Below is code to test adding nodes to a graph (to be used later)."
      ],
      "metadata": {
        "id": "lJ0Vn1pbBy5e"
      }
    },
    {
      "cell_type": "code",
      "source": [
        "class WordNetGraph:\n",
        "    def __init__(self):\n",
        "        self.graph = nx.Graph()\n",
        "\n",
        "    def add_synset_node(self, synset):\n",
        "        self.graph.add_node(synset)"
      ],
      "metadata": {
        "id": "0xtVf5S6Ljwh"
      },
      "execution_count": 3,
      "outputs": []
    },
    {
      "cell_type": "code",
      "source": [
        "graph = WordNetGraph()\n",
        "\n",
        "synset1 = wn.synset('dog.n.01')\n",
        "synset2 = wn.synset('bank.n.01')\n",
        "graph.add_synset_node(synset1)\n",
        "graph.add_synset_node(synset2)\n",
        "\n",
        "print(f\"Nodes in graph: {list(graph.graph.nodes())}\")\n",
        "print(f\"Graph has {graph.graph.number_of_nodes()} nodes\")"
      ],
      "metadata": {
        "id": "PFiGzbLJL_QA",
        "outputId": "e8b4e6d7-6bd1-499f-bc15-b6a38b7221c1",
        "colab": {
          "base_uri": "https://localhost:8080/"
        }
      },
      "execution_count": 4,
      "outputs": [
        {
          "output_type": "stream",
          "name": "stdout",
          "text": [
            "Nodes in graph: [Synset('dog.n.01'), Synset('bank.n.01')]\n",
            "Graph has 2 nodes\n"
          ]
        }
      ]
    },
    {
      "cell_type": "markdown",
      "source": [
        "Stuff below is for finding synonym candidates given a word and a depth."
      ],
      "metadata": {
        "id": "bKjg9D8hBq4-"
      }
    },
    {
      "cell_type": "code",
      "source": [
        "def get_synset_synonyms(synset, depth):\n",
        "    \"\"\"\n",
        "    Retrieve synonyms of a WordNet synset up to a specified depth.\n",
        "\n",
        "    Args:\n",
        "        synset: A WordNet synset object\n",
        "        depth: Integer depth (0 for direct synonyms, 1 for synonyms of synonyms, etc.)\n",
        "\n",
        "    Returns:\n",
        "        Set of synonym lemma names\n",
        "    \"\"\"\n",
        "    # Initialize set to store all synonyms\n",
        "    all_synonyms = set()\n",
        "\n",
        "    def collect_synonyms(current_synset, current_depth):\n",
        "        # Add lemmas from current synset\n",
        "        all_synonyms.update(lemma.name() for lemma in current_synset.lemmas())\n",
        "\n",
        "        # Base case: if depth is reached, stop recursion\n",
        "        if current_depth >= depth:\n",
        "            return\n",
        "\n",
        "        # Get synonyms of current synset's lemmas\n",
        "        for lemma in current_synset.lemmas():\n",
        "            # Get all synsets for this lemma's name\n",
        "            for syn in wn.synsets(lemma.name()):\n",
        "                # Recursively collect synonyms for each related synset\n",
        "                collect_synonyms(syn, current_depth + 1)\n",
        "\n",
        "    # Start the recursive collection\n",
        "    collect_synonyms(synset, 0)\n",
        "\n",
        "    # Remove underscores and return the set\n",
        "    return {syn.replace('_', ' ') for syn in all_synonyms}\n"
      ],
      "metadata": {
        "id": "1NgqbTaL8NFf"
      },
      "execution_count": null,
      "outputs": []
    },
    {
      "cell_type": "code",
      "source": [
        "def get_synset_synsets(synset, depth):\n",
        "    \"\"\"\n",
        "    Retrieve a list of unique synsets related to a WordNet synset up to a specified depth.\n",
        "\n",
        "    Args:\n",
        "        synset: A WordNet synset object\n",
        "        depth: Integer depth (0 for the input synset, 1 for synsets of its lemmas, etc.)\n",
        "\n",
        "    Returns:\n",
        "        List of unique synset objects\n",
        "    \"\"\"\n",
        "    # Initialize set to store unique synsets (to avoid duplicates)\n",
        "    all_synsets = set()\n",
        "\n",
        "    def collect_synsets(current_synset, current_depth):\n",
        "        # Add the current synset\n",
        "        all_synsets.add(current_synset)\n",
        "\n",
        "        # Base case: if depth is reached, stop recursion\n",
        "        if current_depth >= depth:\n",
        "            return\n",
        "\n",
        "        # Get synsets of current synset's lemmas\n",
        "        for lemma in current_synset.lemmas():\n",
        "            # Get all synsets for this lemma's name\n",
        "            for syn in wn.synsets(lemma.name()):\n",
        "                # Recursively collect synsets\n",
        "                collect_synsets(syn, current_depth + 1)\n",
        "\n",
        "    # Start the recursive collection\n",
        "    collect_synsets(synset, 0)\n",
        "\n",
        "    # Convert set to list and return\n",
        "    return list(all_synsets)\n"
      ],
      "metadata": {
        "id": "Y1NnEztr-yEf"
      },
      "execution_count": null,
      "outputs": []
    },
    {
      "cell_type": "code",
      "source": [
        "def get_synset_synonyms_list(synset, depth):\n",
        "    \"\"\"\n",
        "    Retrieve a list of lists, each containing a synset name and its synonyms, up to a specified depth.\n",
        "\n",
        "    Args:\n",
        "        synset: A WordNet synset object\n",
        "        depth: Integer depth (0 for the input synset, 1 for synsets of its lemmas, etc.)\n",
        "\n",
        "    Returns:\n",
        "        List of lists, each in the form [synset_name, synonym1, synonym2, ...]\n",
        "    \"\"\"\n",
        "    # Initialize set to store unique synsets (to avoid duplicates)\n",
        "    all_synsets = set()\n",
        "\n",
        "    def collect_synsets(current_synset, current_depth):\n",
        "        # Add the current synset\n",
        "        all_synsets.add(current_synset)\n",
        "\n",
        "        # Base case: if depth is reached, stop recursion\n",
        "        if current_depth >= depth:\n",
        "            return\n",
        "\n",
        "        # Get synsets of current synset's lemmas\n",
        "        for lemma in current_synset.lemmas():\n",
        "            # Get all synsets for this lemma's name\n",
        "            for syn in wn.synsets(lemma.name()):\n",
        "                # Recursively collect synsets\n",
        "                collect_synsets(syn, current_depth + 1)\n",
        "\n",
        "    # Start the recursive collection\n",
        "    collect_synsets(synset, 0)\n",
        "\n",
        "    # Convert to list of [synset_name, synonym1, synonym2, ...]\n",
        "    result = [\n",
        "        [synset.name()] + [lemma.name().replace('_', ' ') for lemma in synset.lemmas()]\n",
        "        for synset in all_synsets\n",
        "    ]\n",
        "\n",
        "    return result"
      ],
      "metadata": {
        "id": "KsoCmt6xBEVx"
      },
      "execution_count": null,
      "outputs": []
    },
    {
      "cell_type": "code",
      "source": [
        "#Test stuff below\n",
        "\n",
        "# Example synset (e.g., 'dog.n.01')\n",
        "dog_synset = wn.synset('bank.n.01')\n",
        "\n",
        "# Test depth 0\n",
        "synonyms_0 = get_synset_synonyms(dog_synset, 0)\n",
        "print(len(synonyms_0), \"Depth 0 synonyms:\", synonyms_0)\n",
        "\n",
        "# Test depth 1\n",
        "synonyms_1 = get_synset_synonyms(dog_synset, 1)\n",
        "print(len(synonyms_1), \"Depth 1 synonyms:\", synonyms_1)\n",
        "\n",
        "# Test depth 2\n",
        "synonyms_2 = get_synset_synonyms(dog_synset, 2)\n",
        "print(len(synonyms_2), \"Depth 2 synonyms:\", synonyms_2)\n",
        "\n",
        "# Test depth 5\n",
        "#synonyms_5 = get_synset_synonyms(dog_synset, 5)\n",
        "#print(len(synonyms_5), \"Depth 5 synonyms:\", synonyms_5)\n",
        "\n",
        "#RETURN SYNSETS\n",
        "# Test depth 0\n",
        "synsets_0 = get_synset_synsets(dog_synset, 0)\n",
        "print(\"Depth 0 synsets:\", [syn.name() for syn in synsets_0])\n",
        "\n",
        "# Test depth 1\n",
        "synsets_1 = get_synset_synsets(dog_synset, 1)\n",
        "print(len(synsets_1), \"Depth 1 synsets:\", [syn.name() for syn in synsets_1])\n",
        "\n",
        "# Test depth 2\n",
        "synsets_2 = get_synset_synsets(dog_synset, 2)\n",
        "print(len(synsets_2), \"Depth 2 synsets:\", [syn.name() for syn in synsets_2])\n",
        "\n",
        "#RETURN SYNSETS/SYNONYMS\n",
        "# Test depth 0\n",
        "synsets_0 = get_synset_synonyms_list(dog_synset, 0)\n",
        "print(\"Depth 0 synsets and synonyms:\", synsets_0)\n",
        "\n",
        "# Test depth 1\n",
        "synsets_1 = get_synset_synonyms_list(dog_synset, 1)\n",
        "print(\"Depth 1 synsets and synonyms:\", synsets_1)\n",
        "\n",
        "# Test depth 2\n",
        "synsets_2 = get_synset_synonyms_list(dog_synset, 2)\n",
        "print(\"Depth 2 synsets and synonyms:\", synsets_2)"
      ],
      "metadata": {
        "colab": {
          "base_uri": "https://localhost:8080/"
        },
        "id": "Qhse1ZEZ8QC_",
        "outputId": "6d61cfe6-67a8-4289-fefb-f8d13eab3a49"
      },
      "execution_count": null,
      "outputs": [
        {
          "output_type": "stream",
          "name": "stdout",
          "text": [
            "1 Depth 0 synonyms: {'bank'}\n",
            "14 Depth 1 synonyms: {'depository financial institution', 'money box', 'savings bank', 'banking company', 'banking concern', 'swear', 'cant', 'bank', 'deposit', 'bank building', 'rely', 'coin bank', 'camber', 'trust'}\n",
            "72 Depth 2 synonyms: {'money box', 'aver', 'believe', 'down payment', 'trustfulness', 'banking concern', 'swear', 'entrust', 'confide', 'tilt', 'depose', 'trustingness', 'jargon', 'reliance', 'confidence', 'stick', 'bank', 'intrust', 'cartel', 'buzzword', 'slang', 'savings bank', 'patois', 'situate', 'affirm', 'lingo', 'sediment', 'deposit', 'sedimentation', 'blaspheme', 'cant over', 'pitch', 'cuss', 'rely', 'commit', 'camber', 'cashbox', 'imprecate', 'repository', 'trust', 'slant', 'pious platitude', 'posit', 'faith', 'argot', 'hope', 'fix', 'verify', 'wedge', 'till', 'depository financial institution', 'curse', 'avow', 'vernacular', 'swan', 'alluviation', 'depository', 'combine', 'banking company', 'chamfer', 'cant', 'lodge', 'bevel', 'corporate trust', 'bank deposit', 'bank building', 'depositary', 'deposition', 'assert', 'coin bank', 'depone', 'desire'}\n",
            "Depth 0 synsets: ['bank.n.01']\n",
            "18 Depth 1 synsets: ['savings_bank.n.02', 'bank.n.01', 'bank.v.07', 'bank.n.03', 'bank.v.02', 'depository_financial_institution.n.01', 'deposit.v.02', 'bank.n.09', 'bank.n.05', 'bank.n.06', 'bank.n.10', 'bank.v.01', 'bank.v.03', 'bank.v.05', 'bank.n.07', 'trust.v.01', 'bank.v.04', 'bank.n.04']\n",
            "54 Depth 2 synsets: ['bank.v.07', 'savings_bank.n.01', 'trust.n.03', 'swear.v.03', 'bank.v.02', 'sediment.n.01', 'swear.v.04', 'confidence.n.04', 'entrust.v.01', 'deposit.n.01', 'curse.v.01', 'bank.v.04', 'bank.n.04', 'trust.v.06', 'deposit.n.06', 'reliance.n.01', 'depository_financial_institution.n.01', 'depository.n.01', 'deposit.v.02', 'cashbox.n.01', 'bank.v.05', 'affirm.v.02', 'bank.n.10', 'down_payment.n.01', 'lodge.v.02', 'bank.n.07', 'deposit.n.07', 'trust.v.02', 'cant.n.04', 'camber.v.01', 'bank.n.03', 'buzzword.n.01', 'faith.n.02', 'bank.n.09', 'bank.n.06', 'bank.v.03', 'hope.v.01', 'camber.n.01', 'believe.v.03', 'camber.n.03', 'cant.v.01', 'deposit.n.09', 'situate.v.02', 'savings_bank.n.02', 'deposit.n.04', 'bank.n.01', 'bevel.n.01', 'deposition.n.01', 'bank.n.05', 'bank.v.01', 'trust.n.01', 'trust.n.04', 'trust.v.01', 'slang.n.02']\n",
            "Depth 0 synsets and synonyms: [['bank.n.01', 'bank']]\n",
            "Depth 1 synsets and synonyms: [['savings_bank.n.02', 'savings bank', 'coin bank', 'money box', 'bank'], ['bank.n.01', 'bank'], ['bank.v.07', 'bank'], ['bank.n.03', 'bank'], ['bank.v.02', 'bank'], ['depository_financial_institution.n.01', 'depository financial institution', 'bank', 'banking concern', 'banking company'], ['deposit.v.02', 'deposit', 'bank'], ['bank.n.09', 'bank', 'bank building'], ['bank.n.05', 'bank'], ['bank.n.06', 'bank'], ['bank.n.10', 'bank'], ['bank.v.01', 'bank'], ['bank.v.03', 'bank'], ['bank.v.05', 'bank'], ['bank.n.07', 'bank', 'cant', 'camber'], ['trust.v.01', 'trust', 'swear', 'rely', 'bank'], ['bank.v.04', 'bank'], ['bank.n.04', 'bank']]\n",
            "Depth 2 synsets and synonyms: [['bank.v.07', 'bank'], ['savings_bank.n.01', 'savings bank'], ['trust.n.03', 'trust', 'trustingness', 'trustfulness'], ['swear.v.03', 'swear'], ['bank.v.02', 'bank'], ['sediment.n.01', 'sediment', 'deposit'], ['swear.v.04', 'swear', 'depose', 'depone'], ['confidence.n.04', 'confidence', 'trust'], ['entrust.v.01', 'entrust', 'intrust', 'trust', 'confide', 'commit'], ['deposit.n.01', 'deposit', 'sedimentation', 'alluviation'], ['curse.v.01', 'curse', 'cuss', 'blaspheme', 'swear', 'imprecate'], ['bank.v.04', 'bank'], ['bank.n.04', 'bank'], ['trust.v.06', 'trust'], ['deposit.n.06', 'deposit'], ['reliance.n.01', 'reliance', 'trust'], ['depository_financial_institution.n.01', 'depository financial institution', 'bank', 'banking concern', 'banking company'], ['depository.n.01', 'depository', 'deposit', 'depositary', 'repository'], ['deposit.v.02', 'deposit', 'bank'], ['cashbox.n.01', 'cashbox', 'money box', 'till'], ['bank.v.05', 'bank'], ['affirm.v.02', 'affirm', 'verify', 'assert', 'avow', 'aver', 'swan', 'swear'], ['bank.n.10', 'bank'], ['down_payment.n.01', 'down payment', 'deposit'], ['lodge.v.02', 'lodge', 'wedge', 'stick', 'deposit'], ['bank.n.07', 'bank', 'cant', 'camber'], ['deposit.n.07', 'deposit'], ['trust.v.02', 'trust'], ['cant.n.04', 'cant', 'pious platitude'], ['camber.v.01', 'camber'], ['bank.n.03', 'bank'], ['buzzword.n.01', 'buzzword', 'cant'], ['faith.n.02', 'faith', 'trust'], ['bank.n.09', 'bank', 'bank building'], ['bank.n.06', 'bank'], ['bank.v.03', 'bank'], ['hope.v.01', 'hope', 'trust', 'desire'], ['camber.n.01', 'camber'], ['believe.v.03', 'believe', 'trust'], ['camber.n.03', 'camber'], ['cant.v.01', 'cant', 'cant over', 'tilt', 'slant', 'pitch'], ['deposit.n.09', 'deposit', 'deposition'], ['situate.v.02', 'situate', 'fix', 'posit', 'deposit'], ['savings_bank.n.02', 'savings bank', 'coin bank', 'money box', 'bank'], ['deposit.n.04', 'deposit', 'bank deposit'], ['bank.n.01', 'bank'], ['bevel.n.01', 'bevel', 'cant', 'chamfer'], ['deposition.n.01', 'deposition', 'deposit'], ['bank.n.05', 'bank'], ['bank.v.01', 'bank'], ['trust.n.01', 'trust'], ['trust.n.04', 'trust', 'corporate trust', 'combine', 'cartel'], ['trust.v.01', 'trust', 'swear', 'rely', 'bank'], ['slang.n.02', 'slang', 'cant', 'jargon', 'lingo', 'argot', 'patois', 'vernacular']]\n"
          ]
        }
      ]
    },
    {
      "cell_type": "code",
      "source": [
        "print(wn.synset('bank.n.07').definition())\n",
        "print(wn.synset('bank.n.07').lemma_names())\n",
        "print(wn.synsets('cant'))"
      ],
      "metadata": {
        "id": "9S5Y57uGC7wY",
        "outputId": "2e0070d6-3569-4dba-bd11-50b6472a0d39",
        "colab": {
          "base_uri": "https://localhost:8080/"
        }
      },
      "execution_count": null,
      "outputs": [
        {
          "output_type": "stream",
          "name": "stdout",
          "text": [
            "a slope in the turn of a road or track; the outside is higher than the inside in order to reduce the effects of centrifugal force\n",
            "['bank', 'cant', 'camber']\n",
            "[Synset('buzzword.n.01'), Synset('bank.n.07'), Synset('slang.n.02'), Synset('cant.n.04'), Synset('bevel.n.01'), Synset('cant.v.01')]\n"
          ]
        }
      ]
    },
    {
      "cell_type": "code",
      "source": [
        "def get_synset_neighbors(input_synset, depth):\n",
        "    \"\"\"\n",
        "    Returns a dictionary of synsets and their lemma-associated synsets up to a specified depth.Args:\n",
        "    input_synset (str): A synset name (e.g., 'trust.v.01')\n",
        "    depth (int): The depth of neighbor exploration\n",
        "\n",
        "    Returns:\n",
        "        dict: Dictionary with synsets as keys and lists of lemma-associated synset names as values\n",
        "    \"\"\"\n",
        "    # Initialize the result dictionary\n",
        "    result = {}\n",
        "\n",
        "    # Get the starting synset\n",
        "    try:\n",
        "        start_synset = wn.synset(input_synset)\n",
        "    except:\n",
        "        return f\"Invalid synset: {input_synset}\"\n",
        "\n",
        "    # Set to keep track of synsets to process\n",
        "    to_process = {start_synset}\n",
        "    processed = set()\n",
        "\n",
        "    # Process synsets up to the specified depth\n",
        "    for _ in range(depth + 1):\n",
        "        next_to_process = set()\n",
        "\n",
        "        for synset in to_process:\n",
        "            if synset not in processed:\n",
        "                # Get lemmas for the current synset\n",
        "                lemmas = synset.lemmas()\n",
        "                # Get synsets associated with these lemmas' names\n",
        "                neighbor_synsets = set()\n",
        "                for lemma in lemmas:\n",
        "                    lemma_name = lemma.name()\n",
        "                    # Get all synsets for this lemma's word, restricted to same POS\n",
        "                    for lemma_synset in wn.synsets(lemma_name, pos=synset.pos()):\n",
        "                        neighbor_synsets.add(lemma_synset)\n",
        "\n",
        "                # Add to result dictionary, excluding the synset itself\n",
        "                result[synset.name()] = [n.name() for n in neighbor_synsets if n != synset]\n",
        "\n",
        "                # Only add new synsets to process if depth allows further exploration\n",
        "                if _ < depth:\n",
        "                    next_to_process.update(neighbor_synsets - processed)\n",
        "\n",
        "                processed.add(synset)\n",
        "\n",
        "        to_process = next_to_process\n",
        "\n",
        "    return result"
      ],
      "metadata": {
        "id": "Xae2sI8waIWS"
      },
      "execution_count": 5,
      "outputs": []
    },
    {
      "cell_type": "code",
      "source": [
        "test_synset = wn.synset('depository_financial_institution.n.01')\n",
        "\n",
        "# Example call\n",
        "result = get_synset_neighbors('depository_financial_institution.n.01', 3)\n",
        "for synset, neighbors in result.items():\n",
        "    print(f\"{synset}: {neighbors}\")\n",
        "print('\\n', result)"
      ],
      "metadata": {
        "id": "Lumpk9O9a6RY",
        "outputId": "e3e273c9-933f-4650-c73e-117467da689d",
        "colab": {
          "base_uri": "https://localhost:8080/"
        }
      },
      "execution_count": 17,
      "outputs": [
        {
          "output_type": "stream",
          "name": "stdout",
          "text": [
            "depository_financial_institution.n.01: ['bank.n.03', 'savings_bank.n.02', 'bank.n.05', 'bank.n.04', 'bank.n.01', 'bank.n.07', 'bank.n.10', 'bank.n.09', 'bank.n.06']\n",
            "bank.n.03: ['savings_bank.n.02', 'bank.n.05', 'bank.n.04', 'depository_financial_institution.n.01', 'bank.n.01', 'bank.n.07', 'bank.n.10', 'bank.n.09', 'bank.n.06']\n",
            "savings_bank.n.02: ['bank.n.03', 'depository_financial_institution.n.01', 'savings_bank.n.01', 'bank.n.01', 'bank.n.04', 'bank.n.05', 'bank.n.07', 'bank.n.10', 'bank.n.09', 'bank.n.06', 'cashbox.n.01']\n",
            "bank.n.05: ['bank.n.03', 'savings_bank.n.02', 'bank.n.04', 'depository_financial_institution.n.01', 'bank.n.01', 'bank.n.07', 'bank.n.10', 'bank.n.09', 'bank.n.06']\n",
            "bank.n.04: ['bank.n.03', 'savings_bank.n.02', 'bank.n.05', 'depository_financial_institution.n.01', 'bank.n.01', 'bank.n.07', 'bank.n.10', 'bank.n.09', 'bank.n.06']\n",
            "bank.n.01: ['bank.n.03', 'savings_bank.n.02', 'bank.n.05', 'bank.n.04', 'depository_financial_institution.n.01', 'bank.n.07', 'bank.n.10', 'bank.n.09', 'bank.n.06']\n",
            "bank.n.07: ['slang.n.02', 'bevel.n.01', 'buzzword.n.01', 'bank.n.03', 'savings_bank.n.02', 'bank.n.05', 'bank.n.04', 'depository_financial_institution.n.01', 'bank.n.01', 'bank.n.10', 'camber.n.01', 'camber.n.03', 'bank.n.09', 'bank.n.06', 'cant.n.04']\n",
            "bank.n.10: ['bank.n.03', 'savings_bank.n.02', 'bank.n.05', 'bank.n.04', 'depository_financial_institution.n.01', 'bank.n.01', 'bank.n.07', 'bank.n.09', 'bank.n.06']\n",
            "bank.n.09: ['bank.n.03', 'savings_bank.n.02', 'bank.n.05', 'bank.n.04', 'depository_financial_institution.n.01', 'bank.n.01', 'bank.n.07', 'bank.n.10', 'bank.n.06']\n",
            "bank.n.06: ['bank.n.03', 'savings_bank.n.02', 'bank.n.05', 'bank.n.04', 'depository_financial_institution.n.01', 'bank.n.01', 'bank.n.07', 'bank.n.10', 'bank.n.09']\n",
            "camber.n.03: ['bank.n.07', 'camber.n.01']\n",
            "camber.n.01: ['bank.n.07', 'camber.n.03']\n",
            "slang.n.02: ['bevel.n.01', 'buzzword.n.01', 'bank.n.07', 'jargon.n.03', 'vernacular.n.02', 'slang.n.01', 'jargoon.n.01', 'patois.n.02', 'cant.n.04']\n",
            "bevel.n.01: ['slang.n.02', 'buzzword.n.01', 'bank.n.07', 'bevel.n.02', 'cant.n.04']\n",
            "buzzword.n.01: ['slang.n.02', 'bevel.n.01', 'bank.n.07', 'cant.n.04']\n",
            "savings_bank.n.01: ['savings_bank.n.02']\n",
            "cashbox.n.01: ['public_treasury.n.01', 'savings_bank.n.02', 'till.n.01']\n",
            "cant.n.04: ['slang.n.02', 'bevel.n.01', 'buzzword.n.01', 'bank.n.07']\n",
            "public_treasury.n.01: ['manger.n.01', 'gutter.n.01', 'till.n.01', 'bowl.n.02', 'trough.n.01', 'trough.n.05', 'cashbox.n.01']\n",
            "till.n.01: ['public_treasury.n.01', 'cashbox.n.01']\n",
            "jargon.n.03: ['jargoon.n.01', 'slang.n.02']\n",
            "bevel.n.02: ['bevel.n.01']\n",
            "vernacular.n.02: ['slang.n.02']\n",
            "slang.n.01: ['slang.n.02']\n",
            "jargoon.n.01: ['slang.n.02', 'jargon.n.03']\n",
            "patois.n.02: ['slang.n.02']\n",
            "\n",
            " {'depository_financial_institution.n.01': ['bank.n.03', 'savings_bank.n.02', 'bank.n.05', 'bank.n.04', 'bank.n.01', 'bank.n.07', 'bank.n.10', 'bank.n.09', 'bank.n.06'], 'bank.n.03': ['savings_bank.n.02', 'bank.n.05', 'bank.n.04', 'depository_financial_institution.n.01', 'bank.n.01', 'bank.n.07', 'bank.n.10', 'bank.n.09', 'bank.n.06'], 'savings_bank.n.02': ['bank.n.03', 'depository_financial_institution.n.01', 'savings_bank.n.01', 'bank.n.01', 'bank.n.04', 'bank.n.05', 'bank.n.07', 'bank.n.10', 'bank.n.09', 'bank.n.06', 'cashbox.n.01'], 'bank.n.05': ['bank.n.03', 'savings_bank.n.02', 'bank.n.04', 'depository_financial_institution.n.01', 'bank.n.01', 'bank.n.07', 'bank.n.10', 'bank.n.09', 'bank.n.06'], 'bank.n.04': ['bank.n.03', 'savings_bank.n.02', 'bank.n.05', 'depository_financial_institution.n.01', 'bank.n.01', 'bank.n.07', 'bank.n.10', 'bank.n.09', 'bank.n.06'], 'bank.n.01': ['bank.n.03', 'savings_bank.n.02', 'bank.n.05', 'bank.n.04', 'depository_financial_institution.n.01', 'bank.n.07', 'bank.n.10', 'bank.n.09', 'bank.n.06'], 'bank.n.07': ['slang.n.02', 'bevel.n.01', 'buzzword.n.01', 'bank.n.03', 'savings_bank.n.02', 'bank.n.05', 'bank.n.04', 'depository_financial_institution.n.01', 'bank.n.01', 'bank.n.10', 'camber.n.01', 'camber.n.03', 'bank.n.09', 'bank.n.06', 'cant.n.04'], 'bank.n.10': ['bank.n.03', 'savings_bank.n.02', 'bank.n.05', 'bank.n.04', 'depository_financial_institution.n.01', 'bank.n.01', 'bank.n.07', 'bank.n.09', 'bank.n.06'], 'bank.n.09': ['bank.n.03', 'savings_bank.n.02', 'bank.n.05', 'bank.n.04', 'depository_financial_institution.n.01', 'bank.n.01', 'bank.n.07', 'bank.n.10', 'bank.n.06'], 'bank.n.06': ['bank.n.03', 'savings_bank.n.02', 'bank.n.05', 'bank.n.04', 'depository_financial_institution.n.01', 'bank.n.01', 'bank.n.07', 'bank.n.10', 'bank.n.09'], 'camber.n.03': ['bank.n.07', 'camber.n.01'], 'camber.n.01': ['bank.n.07', 'camber.n.03'], 'slang.n.02': ['bevel.n.01', 'buzzword.n.01', 'bank.n.07', 'jargon.n.03', 'vernacular.n.02', 'slang.n.01', 'jargoon.n.01', 'patois.n.02', 'cant.n.04'], 'bevel.n.01': ['slang.n.02', 'buzzword.n.01', 'bank.n.07', 'bevel.n.02', 'cant.n.04'], 'buzzword.n.01': ['slang.n.02', 'bevel.n.01', 'bank.n.07', 'cant.n.04'], 'savings_bank.n.01': ['savings_bank.n.02'], 'cashbox.n.01': ['public_treasury.n.01', 'savings_bank.n.02', 'till.n.01'], 'cant.n.04': ['slang.n.02', 'bevel.n.01', 'buzzword.n.01', 'bank.n.07'], 'public_treasury.n.01': ['manger.n.01', 'gutter.n.01', 'till.n.01', 'bowl.n.02', 'trough.n.01', 'trough.n.05', 'cashbox.n.01'], 'till.n.01': ['public_treasury.n.01', 'cashbox.n.01'], 'jargon.n.03': ['jargoon.n.01', 'slang.n.02'], 'bevel.n.02': ['bevel.n.01'], 'vernacular.n.02': ['slang.n.02'], 'slang.n.01': ['slang.n.02'], 'jargoon.n.01': ['slang.n.02', 'jargon.n.03'], 'patois.n.02': ['slang.n.02']}\n"
          ]
        }
      ]
    }
  ]
}